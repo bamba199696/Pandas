{
 "cells": [
  {
   "cell_type": "markdown",
   "metadata": {},
   "source": [
    "# Introduction"
   ]
  },
  {
   "cell_type": "markdown",
   "metadata": {},
   "source": [
    "Lancez la cellule suivante pour charger vos données."
   ]
  },
  {
   "cell_type": "code",
   "execution_count": null,
   "metadata": {},
   "outputs": [],
   "source": [
    "import pandas as pd\n",
    "pd.set_option(\"display.max_rows\", 5)\n",
    "reviews = pd.read_csv(\"../wine-reviews/winemag-data-130k-v2.csv\", index_col=0)\n",
    "\n",
    "reviews.head()"
   ]
  },
  {
   "cell_type": "markdown",
   "metadata": {},
   "source": [
    "# Exercices"
   ]
  },
  {
   "cell_type": "markdown",
   "metadata": {},
   "source": [
    "# 1."
   ]
  },
  {
   "cell_type": "markdown",
   "metadata": {},
   "source": [
    "Quelle est la médiane de la colonne `points` dans le DataFrame `reviews` ?"
   ]
  },
  {
   "cell_type": "code",
   "execution_count": null,
   "metadata": {},
   "outputs": [],
   "source": [
    "# median_points = ..."
   ]
  },
  {
   "cell_type": "markdown",
   "metadata": {},
   "source": [
    "# 2."
   ]
  },
  {
   "cell_type": "markdown",
   "metadata": {},
   "source": [
    "Quels sont les pays représentés dans l'ensemble de données ? (Votre réponse ne doit pas comporter de doublons)."
   ]
  },
  {
   "cell_type": "code",
   "execution_count": null,
   "metadata": {},
   "outputs": [],
   "source": [
    "# countries = ..."
   ]
  },
  {
   "cell_type": "markdown",
   "metadata": {},
   "source": [
    "# 3."
   ]
  },
  {
   "cell_type": "markdown",
   "metadata": {},
   "source": [
    "À quelle fréquence chaque pays figure-t-il dans l'ensemble de données ? Créez une Series de `reviews_per_country` en faisant correspondre les pays au nombre de critiques de vins de ce pays."
   ]
  },
  {
   "cell_type": "code",
   "execution_count": null,
   "metadata": {},
   "outputs": [],
   "source": [
    "# reviews_per_country = ..."
   ]
  },
  {
   "cell_type": "markdown",
   "metadata": {},
   "source": [
    "# 4."
   ]
  },
  {
   "cell_type": "markdown",
   "metadata": {},
   "source": [
    "Créez la variable `centered_price` contenant une version de la colonne `price` avec le prix moyen soustrait.\n",
    "\n",
    "(Remarque : cette transformation de \"centrage\" est une étape de prétraitement courante avant l'application de divers algorithmes de Machine Learning)."
   ]
  },
  {
   "cell_type": "code",
   "execution_count": null,
   "metadata": {},
   "outputs": [],
   "source": [
    "# centered_price = ..."
   ]
  },
  {
   "cell_type": "markdown",
   "metadata": {},
   "source": [
    "# 5."
   ]
  },
  {
   "cell_type": "markdown",
   "metadata": {},
   "source": [
    "Je suis un acheteur de vin. Quel vin est la meilleure affaire (\"best bargain\") ? Créez une variable `bargain_wine` avec le titre du vin ayant le meilleur rapport qualité/prix dans l'ensemble de données."
   ]
  },
  {
   "cell_type": "code",
   "execution_count": null,
   "metadata": {},
   "outputs": [],
   "source": [
    "# bargain_wine = ..."
   ]
  },
  {
   "cell_type": "markdown",
   "metadata": {},
   "source": [
    "# 6."
   ]
  },
  {
   "cell_type": "markdown",
   "metadata": {},
   "source": [
    "Il y a un nombre limité de mots que vous pouvez utiliser pour décrire une bouteille de vin. Un vin est-il plus susceptible d'être \"tropical\" (\"tropical\") ou \"fruité\" (\"fruity\") ? Créez une Series de `descriptor_counts` en comptant le nombre de fois que chacun de ces deux mots apparaît dans la colonne `description` de l'ensemble de données."
   ]
  },
  {
   "cell_type": "code",
   "execution_count": null,
   "metadata": {},
   "outputs": [],
   "source": [
    "# descriptor_counts = ..."
   ]
  },
  {
   "cell_type": "markdown",
   "metadata": {},
   "source": [
    "# 7."
   ]
  },
  {
   "cell_type": "markdown",
   "metadata": {},
   "source": [
    "Nous aimerions héberger ces critiques de vins sur notre site web, mais un système de notation allant de 80 à 100 points est trop difficile à comprendre - nous aimerions les traduire en simples notations par étoiles. Un score de 95 ou plus compte pour 3 étoiles, un score d'au moins 85 mais inférieur à 95 compte pour 2 étoiles. Tout autre score est 1 étoile.\n",
    "\n",
    "Par ailleurs, la Canadian Vintners Association a acheté beaucoup de publicités sur le site, de sorte que tout vin du Canada devrait automatiquement obtenir 3 étoiles, quels que soient les points obtenus.\n",
    "\n",
    "Créez une série `star_ratings` avec le nombre d'étoiles correspondant à chaque critique dans l'ensemble de données."
   ]
  },
  {
   "cell_type": "code",
   "execution_count": null,
   "metadata": {},
   "outputs": [],
   "source": [
    "# star_ratings = ..."
   ]
  },
  {
   "cell_type": "code",
   "execution_count": null,
   "metadata": {},
   "outputs": [],
   "source": []
  }
 ],
 "metadata": {
  "kernelspec": {
   "display_name": "Python 3",
   "language": "python",
   "name": "python3"
  },
  "language_info": {
   "codemirror_mode": {
    "name": "ipython",
    "version": 3
   },
   "file_extension": ".py",
   "mimetype": "text/x-python",
   "name": "python",
   "nbconvert_exporter": "python",
   "pygments_lexer": "ipython3",
   "version": "3.7.4"
  }
 },
 "nbformat": 4,
 "nbformat_minor": 2
}
